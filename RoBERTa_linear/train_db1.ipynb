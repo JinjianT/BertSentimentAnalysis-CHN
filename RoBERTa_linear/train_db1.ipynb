{
 "cells": [
  {
   "cell_type": "code",
   "execution_count": 18,
   "metadata": {},
   "outputs": [],
   "source": [
    "import numpy as np\n",
    "import pandas as pd\n",
    "import torch\n",
    "import csv\n",
    "import transformers\n",
    "import torch.nn as nn\n",
    "import torch.utils.data as Data\n",
    "import torch.nn.functional as F\n",
    "import json\n",
    "from torch.optim import AdamW\n",
    "from transformers import AutoTokenizer,AutoModelForSequenceClassification, AutoConfig, get_linear_schedule_with_warmup\n",
    "import warnings\n"
   ]
  },
  {
   "cell_type": "code",
   "execution_count": 19,
   "metadata": {},
   "outputs": [],
   "source": [
    "warnings.filterwarnings('ignore')\n",
    "device = 'cuda'\n",
    "MODEL_NAME = \"hfl/chinese-roberta-wwm-ext\"\n",
    "MAX_LEN = 32\n",
    "EPOCHS = 5\n",
    "BATCH_SIZE = 32 \n",
    "LR = 1e-5 \n",
    "WARMUP_STEP = 100"
   ]
  },
  {
   "cell_type": "markdown",
   "metadata": {},
   "source": [
    "创建load_dataset function"
   ]
  },
  {
   "cell_type": "code",
   "execution_count": 20,
   "metadata": {},
   "outputs": [],
   "source": [
    "tokenizer = AutoTokenizer.from_pretrained(MODEL_NAME)"
   ]
  },
  {
   "cell_type": "code",
   "execution_count": 21,
   "metadata": {},
   "outputs": [],
   "source": [
    "def load_dataset(filepath, max_len):\n",
    "    label = []\n",
    "    sentences = []\n",
    "    # load dataset\n",
    "    f = open(filepath, 'r', encoding='utf-8')\n",
    "    r = csv.reader(f)\n",
    "    for item in r:\n",
    "        if r.line_num == 1:\n",
    "            continue\n",
    "        label.append(int(item[0]))\n",
    "        sentences.append(item[1])\n",
    "        \n",
    "    input_ids = []\n",
    "    attention_masks = []\n",
    "\n",
    "    # For every sentence...\n",
    "    for data in sentences:\n",
    "        encoded_data = tokenizer.encode_plus(\n",
    "            text=data,                      # Preprocess sentence\n",
    "            add_special_tokens=True,        # Add `[CLS]` and `[SEP]`\n",
    "            max_length=max_len,             # Max length to truncate/pad\n",
    "            padding='max_length',           # Pad sentence to max length\n",
    "            return_attention_mask=True,      # Return attention mask\n",
    "            truncation= True\n",
    "            )\n",
    "        \n",
    "        # Add the outputs to the lists\n",
    "        input_ids.append(encoded_data.get('input_ids'))\n",
    "        attention_masks.append(encoded_data.get('attention_mask'))\n",
    "\n",
    "    # Convert lists to tensors\n",
    "    input_ids = torch.tensor(input_ids)\n",
    "    attention_masks = torch.tensor(attention_masks)\n",
    "    labels = torch.tensor(label)\n",
    "    return input_ids, attention_masks, labels\n"
   ]
  },
  {
   "cell_type": "code",
   "execution_count": 22,
   "metadata": {},
   "outputs": [],
   "source": [
    "def batch_accuracy(pre, label):\n",
    "    pre = pre.argmax(dim=1)\n",
    "    correct = torch.eq(pre, label).sum().float().item()\n",
    "    accuracy = correct / float(len(label))\n",
    "\n",
    "    return accuracy"
   ]
  },
  {
   "cell_type": "code",
   "execution_count": 23,
   "metadata": {},
   "outputs": [],
   "source": [
    "import os\n",
    "path = os.path.abspath(os.path.dirname(os.getcwd()))"
   ]
  },
  {
   "cell_type": "markdown",
   "metadata": {},
   "source": [
    "load dataset"
   ]
  },
  {
   "cell_type": "code",
   "execution_count": 24,
   "metadata": {},
   "outputs": [],
   "source": [
    "train_dataset = load_dataset(f'{path}/data/train.csv', max_len = MAX_LEN)\n",
    "valid_dataset = load_dataset(f'{path}/data/dev.csv', max_len = MAX_LEN)\n",
    "test_dataset = load_dataset(f'{path}/data/test.csv', max_len = MAX_LEN)"
   ]
  },
  {
   "cell_type": "code",
   "execution_count": 25,
   "metadata": {},
   "outputs": [],
   "source": [
    "from torch.utils.data import TensorDataset, DataLoader, RandomSampler, SequentialSampler\n",
    "\n",
    "train_data = TensorDataset(train_dataset[0], train_dataset[1],train_dataset[2])\n",
    "train_sampler = RandomSampler(train_data)\n",
    "train_loader = DataLoader(train_data, sampler=train_sampler, batch_size = BATCH_SIZE)\n",
    "\n",
    "val_data = TensorDataset(valid_dataset[0],valid_dataset[1],valid_dataset[2])\n",
    "val_sampler = SequentialSampler(val_data)\n",
    "val_loader = DataLoader(val_data,sampler=val_sampler, batch_size = BATCH_SIZE)\n",
    "\n",
    "test_data = TensorDataset(test_dataset[0],test_dataset[1],test_dataset[2])\n"
   ]
  },
  {
   "cell_type": "code",
   "execution_count": 26,
   "metadata": {},
   "outputs": [
    {
     "data": {
      "text/plain": [
       "True"
      ]
     },
     "execution_count": 26,
     "metadata": {},
     "output_type": "execute_result"
    }
   ],
   "source": [
    "torch.cuda.is_available()"
   ]
  },
  {
   "cell_type": "code",
   "execution_count": 27,
   "metadata": {},
   "outputs": [
    {
     "name": "stderr",
     "output_type": "stream",
     "text": [
      "Some weights of the model checkpoint at hfl/chinese-roberta-wwm-ext were not used when initializing BertForSequenceClassification: ['cls.predictions.transform.dense.weight', 'cls.predictions.transform.dense.bias', 'cls.predictions.transform.LayerNorm.weight', 'cls.predictions.transform.LayerNorm.bias', 'cls.predictions.bias', 'cls.seq_relationship.bias', 'cls.predictions.decoder.weight', 'cls.seq_relationship.weight']\n",
      "- This IS expected if you are initializing BertForSequenceClassification from the checkpoint of a model trained on another task or with another architecture (e.g. initializing a BertForSequenceClassification model from a BertForPreTraining model).\n",
      "- This IS NOT expected if you are initializing BertForSequenceClassification from the checkpoint of a model that you expect to be exactly identical (initializing a BertForSequenceClassification model from a BertForSequenceClassification model).\n",
      "Some weights of BertForSequenceClassification were not initialized from the model checkpoint at hfl/chinese-roberta-wwm-ext and are newly initialized: ['classifier.weight', 'classifier.bias']\n",
      "You should probably TRAIN this model on a down-stream task to be able to use it for predictions and inference.\n"
     ]
    },
    {
     "name": "stdout",
     "output_type": "stream",
     "text": [
      "\n"
     ]
    }
   ],
   "source": [
    "config = AutoConfig.from_pretrained(MODEL_NAME)\n",
    "config.num_labels = 3\n",
    "model = AutoModelForSequenceClassification.from_pretrained(MODEL_NAME, config=config)\n",
    "model.cuda()\n",
    "print()"
   ]
  },
  {
   "cell_type": "code",
   "execution_count": 28,
   "metadata": {},
   "outputs": [],
   "source": [
    "optimizer = AdamW(model.parameters(), lr=LR)\n",
    "total_steps = len(train_loader) * EPOCHS\n",
    "scheduler = get_linear_schedule_with_warmup(optimizer,num_warmup_steps=WARMUP_STEP,num_training_steps=total_steps)"
   ]
  },
  {
   "cell_type": "code",
   "execution_count": 29,
   "metadata": {},
   "outputs": [],
   "source": [
    "# import os\n",
    "# os.environ['CUDA_LAUNCH_BLOCKING'] = \"1\""
   ]
  },
  {
   "cell_type": "code",
   "execution_count": 30,
   "metadata": {},
   "outputs": [
    {
     "name": "stdout",
     "output_type": "stream",
     "text": [
      "开始训练...\n",
      "epoch:0 | step:20 | avg_batch_acc:0.717262 | avg_batch_loss:0.919157\n",
      "epoch:0 | step:40 | avg_batch_acc:0.784375 | avg_batch_loss:0.814813\n",
      "epoch:0 | step:60 | avg_batch_acc:0.757812 | avg_batch_loss:0.751063\n",
      "epoch:0 | step:80 | avg_batch_acc:0.757812 | avg_batch_loss:0.708167\n",
      "epoch:0 | step:100 | avg_batch_acc:0.759375 | avg_batch_loss:0.698845\n",
      "epoch:0 | step:120 | avg_batch_acc:0.756250 | avg_batch_loss:0.658771\n",
      "epoch:0 | step:140 | avg_batch_acc:0.790625 | avg_batch_loss:0.551725\n",
      "epoch:0 | step:160 | avg_batch_acc:0.835938 | avg_batch_loss:0.432211\n",
      "epoch:0 | step:180 | avg_batch_acc:0.815625 | avg_batch_loss:0.437906\n",
      "epoch:0 | step:200 | avg_batch_acc:0.837500 | avg_batch_loss:0.418552\n",
      "epoch:0 | step:220 | avg_batch_acc:0.831250 | avg_batch_loss:0.445341\n",
      "epoch:0 | step:240 | avg_batch_acc:0.859375 | avg_batch_loss:0.373770\n",
      "epoch:0 | step:260 | avg_batch_acc:0.825000 | avg_batch_loss:0.409131\n",
      "epoch:0 | step:280 | avg_batch_acc:0.839063 | avg_batch_loss:0.382907\n",
      "epoch:0 | step:300 | avg_batch_acc:0.876563 | avg_batch_loss:0.324277\n",
      "epoch:0 | step:320 | avg_batch_acc:0.839063 | avg_batch_loss:0.385483\n",
      "epoch:0 | step:340 | avg_batch_acc:0.820312 | avg_batch_loss:0.432574\n",
      "epoch:0 | step:360 | avg_batch_acc:0.815625 | avg_batch_loss:0.410518\n",
      "epoch:0 | step:380 | avg_batch_acc:0.853125 | avg_batch_loss:0.355500\n",
      "epoch:0 | step:400 | avg_batch_acc:0.850000 | avg_batch_loss:0.379734\n",
      "epoch:0 | step:420 | avg_batch_acc:0.837500 | avg_batch_loss:0.380810\n",
      "epoch:0 | step:440 | avg_batch_acc:0.864062 | avg_batch_loss:0.326185\n",
      "epoch:0 | step:460 | avg_batch_acc:0.829688 | avg_batch_loss:0.414137\n",
      "epoch:0 | step:480 | avg_batch_acc:0.839063 | avg_batch_loss:0.383179\n",
      "epoch:0 | step:500 | avg_batch_acc:0.846875 | avg_batch_loss:0.374409\n",
      "epoch:0 | step:520 | avg_batch_acc:0.865625 | avg_batch_loss:0.326732\n",
      "epoch:0 | step:540 | avg_batch_acc:0.853125 | avg_batch_loss:0.350920\n",
      "epoch:0 | step:560 | avg_batch_acc:0.821875 | avg_batch_loss:0.402824\n",
      "epoch:0 | step:580 | avg_batch_acc:0.843750 | avg_batch_loss:0.382402\n",
      "epoch:0 | step:600 | avg_batch_acc:0.843750 | avg_batch_loss:0.356602\n",
      "epoch:0 | step:620 | avg_batch_acc:0.823438 | avg_batch_loss:0.434819\n",
      "epoch:0 | step:640 | avg_batch_acc:0.826562 | avg_batch_loss:0.397771\n",
      "epoch:0 | step:660 | avg_batch_acc:0.817187 | avg_batch_loss:0.452229\n",
      "epoch:0 | step:680 | avg_batch_acc:0.850000 | avg_batch_loss:0.362794\n",
      "epoch:0 | step:700 | avg_batch_acc:0.865625 | avg_batch_loss:0.322653\n",
      "epoch:0 | step:714 | avg_batch_acc:0.825019 | avg_batch_loss:0.421818\n",
      "epoch:0 | avg_train_loss:0.4559478937329112 | val_loss:0.3633934524163459 | val_accuracy:0.8507281553398058\n",
      "epoch:1 | step:20 | avg_batch_acc:0.879464 | avg_batch_loss:0.315908\n",
      "epoch:1 | step:40 | avg_batch_acc:0.859375 | avg_batch_loss:0.314950\n",
      "epoch:1 | step:60 | avg_batch_acc:0.868750 | avg_batch_loss:0.317640\n",
      "epoch:1 | step:80 | avg_batch_acc:0.893750 | avg_batch_loss:0.269075\n",
      "epoch:1 | step:100 | avg_batch_acc:0.876563 | avg_batch_loss:0.280850\n",
      "epoch:1 | step:120 | avg_batch_acc:0.901563 | avg_batch_loss:0.275702\n",
      "epoch:1 | step:140 | avg_batch_acc:0.882812 | avg_batch_loss:0.285838\n",
      "epoch:1 | step:160 | avg_batch_acc:0.871875 | avg_batch_loss:0.299169\n",
      "epoch:1 | step:180 | avg_batch_acc:0.878125 | avg_batch_loss:0.303723\n",
      "epoch:1 | step:200 | avg_batch_acc:0.900000 | avg_batch_loss:0.262594\n",
      "epoch:1 | step:220 | avg_batch_acc:0.860938 | avg_batch_loss:0.322832\n",
      "epoch:1 | step:240 | avg_batch_acc:0.862500 | avg_batch_loss:0.343628\n",
      "epoch:1 | step:260 | avg_batch_acc:0.875000 | avg_batch_loss:0.307309\n",
      "epoch:1 | step:280 | avg_batch_acc:0.871875 | avg_batch_loss:0.303368\n",
      "epoch:1 | step:300 | avg_batch_acc:0.878125 | avg_batch_loss:0.311699\n",
      "epoch:1 | step:320 | avg_batch_acc:0.867188 | avg_batch_loss:0.317258\n",
      "epoch:1 | step:340 | avg_batch_acc:0.875000 | avg_batch_loss:0.295635\n",
      "epoch:1 | step:360 | avg_batch_acc:0.873437 | avg_batch_loss:0.304182\n",
      "epoch:1 | step:380 | avg_batch_acc:0.868750 | avg_batch_loss:0.316698\n",
      "epoch:1 | step:400 | avg_batch_acc:0.867188 | avg_batch_loss:0.317847\n",
      "epoch:1 | step:420 | avg_batch_acc:0.871875 | avg_batch_loss:0.298357\n",
      "epoch:1 | step:440 | avg_batch_acc:0.885938 | avg_batch_loss:0.290541\n",
      "epoch:1 | step:460 | avg_batch_acc:0.889062 | avg_batch_loss:0.282540\n",
      "epoch:1 | step:480 | avg_batch_acc:0.875000 | avg_batch_loss:0.307599\n",
      "epoch:1 | step:500 | avg_batch_acc:0.865625 | avg_batch_loss:0.305151\n",
      "epoch:1 | step:520 | avg_batch_acc:0.876563 | avg_batch_loss:0.309208\n",
      "epoch:1 | step:540 | avg_batch_acc:0.860938 | avg_batch_loss:0.303448\n",
      "epoch:1 | step:560 | avg_batch_acc:0.860938 | avg_batch_loss:0.322063\n",
      "epoch:1 | step:580 | avg_batch_acc:0.868750 | avg_batch_loss:0.323201\n",
      "epoch:1 | step:600 | avg_batch_acc:0.878125 | avg_batch_loss:0.301017\n",
      "epoch:1 | step:620 | avg_batch_acc:0.884375 | avg_batch_loss:0.287141\n",
      "epoch:1 | step:640 | avg_batch_acc:0.889062 | avg_batch_loss:0.280493\n",
      "epoch:1 | step:660 | avg_batch_acc:0.892188 | avg_batch_loss:0.284756\n",
      "epoch:1 | step:680 | avg_batch_acc:0.832812 | avg_batch_loss:0.377102\n",
      "epoch:1 | step:700 | avg_batch_acc:0.870313 | avg_batch_loss:0.309958\n",
      "epoch:1 | step:714 | avg_batch_acc:0.903144 | avg_batch_loss:0.242795\n",
      "epoch:1 | avg_train_loss:0.3030554248475945 | val_loss:0.35283838118453625 | val_accuracy:0.8604368932038835\n",
      "epoch:2 | step:20 | avg_batch_acc:0.903274 | avg_batch_loss:0.240692\n",
      "epoch:2 | step:40 | avg_batch_acc:0.910937 | avg_batch_loss:0.229188\n",
      "epoch:2 | step:60 | avg_batch_acc:0.896875 | avg_batch_loss:0.233162\n",
      "epoch:2 | step:80 | avg_batch_acc:0.892188 | avg_batch_loss:0.273399\n",
      "epoch:2 | step:100 | avg_batch_acc:0.885938 | avg_batch_loss:0.267822\n",
      "epoch:2 | step:120 | avg_batch_acc:0.918750 | avg_batch_loss:0.221459\n",
      "epoch:2 | step:140 | avg_batch_acc:0.900000 | avg_batch_loss:0.257511\n",
      "epoch:2 | step:160 | avg_batch_acc:0.893750 | avg_batch_loss:0.250788\n",
      "epoch:2 | step:180 | avg_batch_acc:0.915625 | avg_batch_loss:0.221008\n",
      "epoch:2 | step:200 | avg_batch_acc:0.881250 | avg_batch_loss:0.245362\n",
      "epoch:2 | step:220 | avg_batch_acc:0.914062 | avg_batch_loss:0.215718\n",
      "epoch:2 | step:240 | avg_batch_acc:0.889062 | avg_batch_loss:0.283763\n",
      "epoch:2 | step:260 | avg_batch_acc:0.904687 | avg_batch_loss:0.235860\n",
      "epoch:2 | step:280 | avg_batch_acc:0.896875 | avg_batch_loss:0.221690\n",
      "epoch:2 | step:300 | avg_batch_acc:0.909375 | avg_batch_loss:0.233913\n",
      "epoch:2 | step:320 | avg_batch_acc:0.909375 | avg_batch_loss:0.237140\n",
      "epoch:2 | step:340 | avg_batch_acc:0.906250 | avg_batch_loss:0.215588\n",
      "epoch:2 | step:360 | avg_batch_acc:0.915625 | avg_batch_loss:0.227124\n",
      "epoch:2 | step:380 | avg_batch_acc:0.893750 | avg_batch_loss:0.278130\n",
      "epoch:2 | step:400 | avg_batch_acc:0.885938 | avg_batch_loss:0.252831\n",
      "epoch:2 | step:420 | avg_batch_acc:0.889062 | avg_batch_loss:0.243371\n",
      "epoch:2 | step:440 | avg_batch_acc:0.898438 | avg_batch_loss:0.251127\n",
      "epoch:2 | step:460 | avg_batch_acc:0.900000 | avg_batch_loss:0.251646\n",
      "epoch:2 | step:480 | avg_batch_acc:0.868750 | avg_batch_loss:0.277227\n",
      "epoch:2 | step:500 | avg_batch_acc:0.885938 | avg_batch_loss:0.285346\n",
      "epoch:2 | step:520 | avg_batch_acc:0.890625 | avg_batch_loss:0.248933\n",
      "epoch:2 | step:540 | avg_batch_acc:0.903125 | avg_batch_loss:0.255406\n",
      "epoch:2 | step:560 | avg_batch_acc:0.896875 | avg_batch_loss:0.257419\n",
      "epoch:2 | step:580 | avg_batch_acc:0.889062 | avg_batch_loss:0.255628\n",
      "epoch:2 | step:600 | avg_batch_acc:0.892188 | avg_batch_loss:0.272411\n",
      "epoch:2 | step:620 | avg_batch_acc:0.914062 | avg_batch_loss:0.241779\n",
      "epoch:2 | step:640 | avg_batch_acc:0.895312 | avg_batch_loss:0.246621\n",
      "epoch:2 | step:660 | avg_batch_acc:0.892188 | avg_batch_loss:0.272483\n",
      "epoch:2 | step:680 | avg_batch_acc:0.889062 | avg_batch_loss:0.274236\n",
      "epoch:2 | step:700 | avg_batch_acc:0.901563 | avg_batch_loss:0.244770\n",
      "epoch:2 | step:714 | avg_batch_acc:0.890237 | avg_batch_loss:0.270552\n",
      "epoch:2 | avg_train_loss:0.2495655996555632 | val_loss:0.378137308055336 | val_accuracy:0.8540655339805825\n",
      "epoch:3 | step:20 | avg_batch_acc:0.918155 | avg_batch_loss:0.215312\n",
      "epoch:3 | step:40 | avg_batch_acc:0.934375 | avg_batch_loss:0.191760\n",
      "epoch:3 | step:60 | avg_batch_acc:0.926562 | avg_batch_loss:0.199022\n",
      "epoch:3 | step:80 | avg_batch_acc:0.923438 | avg_batch_loss:0.186797\n",
      "epoch:3 | step:100 | avg_batch_acc:0.914062 | avg_batch_loss:0.215505\n",
      "epoch:3 | step:120 | avg_batch_acc:0.915625 | avg_batch_loss:0.203629\n",
      "epoch:3 | step:140 | avg_batch_acc:0.920312 | avg_batch_loss:0.198455\n",
      "epoch:3 | step:160 | avg_batch_acc:0.914062 | avg_batch_loss:0.212192\n",
      "epoch:3 | step:180 | avg_batch_acc:0.904687 | avg_batch_loss:0.231295\n",
      "epoch:3 | step:200 | avg_batch_acc:0.923438 | avg_batch_loss:0.182373\n",
      "epoch:3 | step:220 | avg_batch_acc:0.901563 | avg_batch_loss:0.225474\n",
      "epoch:3 | step:240 | avg_batch_acc:0.920312 | avg_batch_loss:0.212460\n",
      "epoch:3 | step:260 | avg_batch_acc:0.931250 | avg_batch_loss:0.184469\n",
      "epoch:3 | step:280 | avg_batch_acc:0.909375 | avg_batch_loss:0.215760\n",
      "epoch:3 | step:300 | avg_batch_acc:0.942187 | avg_batch_loss:0.163636\n",
      "epoch:3 | step:320 | avg_batch_acc:0.904687 | avg_batch_loss:0.218942\n",
      "epoch:3 | step:340 | avg_batch_acc:0.909375 | avg_batch_loss:0.221097\n",
      "epoch:3 | step:360 | avg_batch_acc:0.926562 | avg_batch_loss:0.194149\n",
      "epoch:3 | step:380 | avg_batch_acc:0.901563 | avg_batch_loss:0.241193\n",
      "epoch:3 | step:400 | avg_batch_acc:0.910937 | avg_batch_loss:0.211161\n",
      "epoch:3 | step:420 | avg_batch_acc:0.903125 | avg_batch_loss:0.240608\n",
      "epoch:3 | step:440 | avg_batch_acc:0.917188 | avg_batch_loss:0.221501\n",
      "epoch:3 | step:460 | avg_batch_acc:0.928125 | avg_batch_loss:0.175984\n",
      "epoch:3 | step:480 | avg_batch_acc:0.914062 | avg_batch_loss:0.203444\n",
      "epoch:3 | step:500 | avg_batch_acc:0.914062 | avg_batch_loss:0.210048\n",
      "epoch:3 | step:520 | avg_batch_acc:0.915625 | avg_batch_loss:0.222754\n",
      "epoch:3 | step:540 | avg_batch_acc:0.928125 | avg_batch_loss:0.189180\n",
      "epoch:3 | step:560 | avg_batch_acc:0.914062 | avg_batch_loss:0.220270\n",
      "epoch:3 | step:580 | avg_batch_acc:0.920312 | avg_batch_loss:0.206015\n",
      "epoch:3 | step:600 | avg_batch_acc:0.943750 | avg_batch_loss:0.174741\n",
      "epoch:3 | step:620 | avg_batch_acc:0.909375 | avg_batch_loss:0.222400\n",
      "epoch:3 | step:640 | avg_batch_acc:0.907813 | avg_batch_loss:0.227323\n",
      "epoch:3 | step:660 | avg_batch_acc:0.940625 | avg_batch_loss:0.169560\n",
      "epoch:3 | step:680 | avg_batch_acc:0.918750 | avg_batch_loss:0.200564\n",
      "epoch:3 | step:700 | avg_batch_acc:0.912500 | avg_batch_loss:0.227078\n",
      "epoch:3 | step:714 | avg_batch_acc:0.900524 | avg_batch_loss:0.227976\n",
      "epoch:3 | avg_train_loss:0.20717480459309123 | val_loss:0.3925174062402503 | val_accuracy:0.8607402912621359\n",
      "epoch:4 | step:20 | avg_batch_acc:0.941964 | avg_batch_loss:0.168345\n",
      "epoch:4 | step:40 | avg_batch_acc:0.929688 | avg_batch_loss:0.180175\n",
      "epoch:4 | step:60 | avg_batch_acc:0.931250 | avg_batch_loss:0.185589\n",
      "epoch:4 | step:80 | avg_batch_acc:0.943750 | avg_batch_loss:0.154862\n",
      "epoch:4 | step:100 | avg_batch_acc:0.935937 | avg_batch_loss:0.164753\n",
      "epoch:4 | step:120 | avg_batch_acc:0.923438 | avg_batch_loss:0.192314\n",
      "epoch:4 | step:140 | avg_batch_acc:0.937500 | avg_batch_loss:0.175558\n",
      "epoch:4 | step:160 | avg_batch_acc:0.932813 | avg_batch_loss:0.199706\n",
      "epoch:4 | step:180 | avg_batch_acc:0.937500 | avg_batch_loss:0.165238\n",
      "epoch:4 | step:200 | avg_batch_acc:0.945312 | avg_batch_loss:0.142103\n",
      "epoch:4 | step:220 | avg_batch_acc:0.928125 | avg_batch_loss:0.184690\n",
      "epoch:4 | step:240 | avg_batch_acc:0.925000 | avg_batch_loss:0.194478\n",
      "epoch:4 | step:260 | avg_batch_acc:0.926562 | avg_batch_loss:0.178283\n",
      "epoch:4 | step:280 | avg_batch_acc:0.925000 | avg_batch_loss:0.202013\n",
      "epoch:4 | step:300 | avg_batch_acc:0.940625 | avg_batch_loss:0.155817\n",
      "epoch:4 | step:320 | avg_batch_acc:0.940625 | avg_batch_loss:0.152974\n",
      "epoch:4 | step:340 | avg_batch_acc:0.931250 | avg_batch_loss:0.195169\n",
      "epoch:4 | step:360 | avg_batch_acc:0.957812 | avg_batch_loss:0.136234\n",
      "epoch:4 | step:380 | avg_batch_acc:0.935937 | avg_batch_loss:0.165511\n",
      "epoch:4 | step:400 | avg_batch_acc:0.926562 | avg_batch_loss:0.181758\n",
      "epoch:4 | step:420 | avg_batch_acc:0.920312 | avg_batch_loss:0.171253\n",
      "epoch:4 | step:440 | avg_batch_acc:0.940625 | avg_batch_loss:0.173446\n",
      "epoch:4 | step:460 | avg_batch_acc:0.926562 | avg_batch_loss:0.177570\n",
      "epoch:4 | step:480 | avg_batch_acc:0.921875 | avg_batch_loss:0.197642\n",
      "epoch:4 | step:500 | avg_batch_acc:0.942187 | avg_batch_loss:0.172695\n",
      "epoch:4 | step:520 | avg_batch_acc:0.932813 | avg_batch_loss:0.177704\n",
      "epoch:4 | step:540 | avg_batch_acc:0.928125 | avg_batch_loss:0.182656\n",
      "epoch:4 | step:560 | avg_batch_acc:0.929688 | avg_batch_loss:0.174320\n",
      "epoch:4 | step:580 | avg_batch_acc:0.935937 | avg_batch_loss:0.167560\n",
      "epoch:4 | step:600 | avg_batch_acc:0.929688 | avg_batch_loss:0.176999\n",
      "epoch:4 | step:620 | avg_batch_acc:0.934375 | avg_batch_loss:0.180975\n",
      "epoch:4 | step:640 | avg_batch_acc:0.929688 | avg_batch_loss:0.160695\n",
      "epoch:4 | step:660 | avg_batch_acc:0.925000 | avg_batch_loss:0.188186\n",
      "epoch:4 | step:680 | avg_batch_acc:0.929688 | avg_batch_loss:0.171425\n",
      "epoch:4 | step:700 | avg_batch_acc:0.937500 | avg_batch_loss:0.167486\n",
      "epoch:4 | step:714 | avg_batch_acc:0.901786 | avg_batch_loss:0.238270\n",
      "epoch:4 | avg_train_loss:0.17598284533755346 | val_loss:0.41524770732932875 | val_accuracy:0.8616504854368932\n",
      "保存训练完成的model...\n"
     ]
    }
   ],
   "source": [
    "model.train()\n",
    "print('开始训练...')\n",
    "\n",
    "for epoch in range(EPOCHS):\n",
    "    loss_t, batch_loss, batch_acc, batch_counts = 0, 0, 0, 0\n",
    "    \n",
    "    model.train()\n",
    "    for step,batch in enumerate(train_loader):\n",
    "        batch_counts +=1\n",
    "        # Load batch to GPU\n",
    "        b_input_ids, b_attn_mask, b_labels = tuple(t.to(device) for t in batch)\n",
    "        outputs = model(b_input_ids, b_attn_mask, labels=b_labels)\n",
    "        loss, logits = outputs[:2]\n",
    "        optimizer.zero_grad()\n",
    "        \n",
    "        loss_t += loss.item()\n",
    "        batch_loss += loss.item()\n",
    "        \n",
    "        loss.backward()\n",
    "        optimizer.step()\n",
    "        scheduler.step()\n",
    "\n",
    "        torch.nn.utils.clip_grad_norm_(model.parameters(), 1.0)\n",
    "        \n",
    "        acc = batch_accuracy(logits, b_labels)\n",
    "        batch_acc += acc\n",
    "        \n",
    "        if (step % 20 == 0 and step != 0) or (step == len(train_loader) - 1):\n",
    "            print(f'epoch:{epoch} | step:{step} | avg_batch_acc:{batch_acc/batch_counts:^.6f} | avg_batch_loss:{batch_loss/batch_counts:^.6f}')\n",
    "            batch_acc, batch_loss, batch_counts = 0, 0, 0\n",
    "        \n",
    "    avg_train_loss = loss_t / len(train_loader)\n",
    "    \n",
    "    #evaluate \n",
    "    val_acc, val_loss = [],[]\n",
    "    model.eval()\n",
    "    for batch in val_loader:\n",
    "        b_input_ids, b_attn_mask, b_labels = tuple(t.to(device) for t in batch)\n",
    "        with torch.no_grad():\n",
    "            outputs = model(b_input_ids, b_attn_mask, labels=b_labels)\n",
    "        loss, logits = outputs[:2]\n",
    "        val_loss.append(loss.item())\n",
    "        acc = batch_accuracy(logits, b_labels)\n",
    "        val_acc.append(acc)\n",
    "        \n",
    "    val_loss = np.mean(val_loss)\n",
    "    val_accuracy = np.mean(val_acc)\n",
    "            \n",
    "    print(f'epoch:{epoch} | avg_train_loss:{avg_train_loss} | val_loss:{val_loss} | val_accuracy:{val_accuracy}')\n",
    "    \n",
    "torch.save(model.state_dict(), 'bert_cla.ckpt')\n",
    "print('保存训练完成的model...')\n"
   ]
  },
  {
   "cell_type": "code",
   "execution_count": 31,
   "metadata": {},
   "outputs": [
    {
     "name": "stdout",
     "output_type": "stream",
     "text": [
      "开始加载训练完成的model...\n"
     ]
    },
    {
     "data": {
      "text/plain": [
       "<All keys matched successfully>"
      ]
     },
     "execution_count": 31,
     "metadata": {},
     "output_type": "execute_result"
    }
   ],
   "source": [
    "print('开始加载训练完成的model...')\n",
    "model.load_state_dict(torch.load('bert_cla.ckpt'))"
   ]
  },
  {
   "cell_type": "code",
   "execution_count": 32,
   "metadata": {},
   "outputs": [
    {
     "name": "stdout",
     "output_type": "stream",
     "text": [
      "开始测试...\n"
     ]
    }
   ],
   "source": [
    "print('开始测试...')\n",
    "model.eval()\n",
    "test_result = []\n",
    "for data in test_data:\n",
    "    b_input_ids, b_attn_mask, b_labels = tuple(t.to(device) for t in data)\n",
    "    b_input = b_input_ids.unsqueeze(0)\n",
    "    \n",
    "    with torch.no_grad():\n",
    "        outputs = model(b_input)\n",
    "        pre = outputs.logits.argmax(dim=1)\n",
    "        test_result.append([b_labels.item(), pre.item(), tokenizer.convert_ids_to_tokens(b_input_ids)])\n",
    "\n",
    "# 写入csv文件\n",
    "df = pd.DataFrame(test_result)\n",
    "df.to_csv('test_result.csv',index=False, header=['id', 'label','text'])"
   ]
  },
  {
   "cell_type": "code",
   "execution_count": 33,
   "metadata": {},
   "outputs": [
    {
     "data": {
      "text/html": [
       "<div>\n",
       "<style scoped>\n",
       "    .dataframe tbody tr th:only-of-type {\n",
       "        vertical-align: middle;\n",
       "    }\n",
       "\n",
       "    .dataframe tbody tr th {\n",
       "        vertical-align: top;\n",
       "    }\n",
       "\n",
       "    .dataframe thead th {\n",
       "        text-align: right;\n",
       "    }\n",
       "</style>\n",
       "<table border=\"1\" class=\"dataframe\">\n",
       "  <thead>\n",
       "    <tr style=\"text-align: right;\">\n",
       "      <th></th>\n",
       "      <th>id</th>\n",
       "      <th>label</th>\n",
       "      <th>text</th>\n",
       "    </tr>\n",
       "  </thead>\n",
       "  <tbody>\n",
       "    <tr>\n",
       "      <th>3</th>\n",
       "      <td>2</td>\n",
       "      <td>0</td>\n",
       "      <td>['[CLS]', '屁', '民', '也', '是', '民', '[SEP]', '[...</td>\n",
       "    </tr>\n",
       "    <tr>\n",
       "      <th>4</th>\n",
       "      <td>1</td>\n",
       "      <td>0</td>\n",
       "      <td>['[CLS]', '加', '油', '吧', '[SEP]', '[PAD]', '[P...</td>\n",
       "    </tr>\n",
       "    <tr>\n",
       "      <th>7</th>\n",
       "      <td>2</td>\n",
       "      <td>0</td>\n",
       "      <td>['[CLS]', '被', '这', '剧', '毁', '了', '[SEP]', '[...</td>\n",
       "    </tr>\n",
       "    <tr>\n",
       "      <th>11</th>\n",
       "      <td>1</td>\n",
       "      <td>0</td>\n",
       "      <td>['[CLS]', '下', '场', '加', '油', '吧', '[SEP]', '[...</td>\n",
       "    </tr>\n",
       "    <tr>\n",
       "      <th>14</th>\n",
       "      <td>2</td>\n",
       "      <td>0</td>\n",
       "      <td>['[CLS]', '太', '扎', '眼', '了', '[SEP]', '[PAD]'...</td>\n",
       "    </tr>\n",
       "    <tr>\n",
       "      <th>...</th>\n",
       "      <td>...</td>\n",
       "      <td>...</td>\n",
       "      <td>...</td>\n",
       "    </tr>\n",
       "    <tr>\n",
       "      <th>6523</th>\n",
       "      <td>2</td>\n",
       "      <td>0</td>\n",
       "      <td>['[CLS]', '成', '渣', '了', '[SEP]', '[PAD]', '[P...</td>\n",
       "    </tr>\n",
       "    <tr>\n",
       "      <th>6524</th>\n",
       "      <td>1</td>\n",
       "      <td>0</td>\n",
       "      <td>['[CLS]', '应', '该', '叫', '先', '知', '[SEP]', '[...</td>\n",
       "    </tr>\n",
       "    <tr>\n",
       "      <th>6525</th>\n",
       "      <td>2</td>\n",
       "      <td>0</td>\n",
       "      <td>['[CLS]', '3', '输', '了', '。', '[SEP]', '[PAD]'...</td>\n",
       "    </tr>\n",
       "    <tr>\n",
       "      <th>6526</th>\n",
       "      <td>2</td>\n",
       "      <td>0</td>\n",
       "      <td>['[CLS]', '就', '是', '太', '贵', '[SEP]', '[PAD]'...</td>\n",
       "    </tr>\n",
       "    <tr>\n",
       "      <th>6529</th>\n",
       "      <td>1</td>\n",
       "      <td>0</td>\n",
       "      <td>['[CLS]', '数', '据', '太', 'nb', '了', '[SEP]', '...</td>\n",
       "    </tr>\n",
       "  </tbody>\n",
       "</table>\n",
       "<p>1486 rows × 3 columns</p>\n",
       "</div>"
      ],
      "text/plain": [
       "      id  label                                               text\n",
       "3      2      0  ['[CLS]', '屁', '民', '也', '是', '民', '[SEP]', '[...\n",
       "4      1      0  ['[CLS]', '加', '油', '吧', '[SEP]', '[PAD]', '[P...\n",
       "7      2      0  ['[CLS]', '被', '这', '剧', '毁', '了', '[SEP]', '[...\n",
       "11     1      0  ['[CLS]', '下', '场', '加', '油', '吧', '[SEP]', '[...\n",
       "14     2      0  ['[CLS]', '太', '扎', '眼', '了', '[SEP]', '[PAD]'...\n",
       "...   ..    ...                                                ...\n",
       "6523   2      0  ['[CLS]', '成', '渣', '了', '[SEP]', '[PAD]', '[P...\n",
       "6524   1      0  ['[CLS]', '应', '该', '叫', '先', '知', '[SEP]', '[...\n",
       "6525   2      0  ['[CLS]', '3', '输', '了', '。', '[SEP]', '[PAD]'...\n",
       "6526   2      0  ['[CLS]', '就', '是', '太', '贵', '[SEP]', '[PAD]'...\n",
       "6529   1      0  ['[CLS]', '数', '据', '太', 'nb', '了', '[SEP]', '...\n",
       "\n",
       "[1486 rows x 3 columns]"
      ]
     },
     "execution_count": 33,
     "metadata": {},
     "output_type": "execute_result"
    }
   ],
   "source": [
    "import pandas as pd\n",
    "df = pd.read_csv('test_result.csv')\n",
    "df[df.id!=df.label]"
   ]
  },
  {
   "cell_type": "code",
   "execution_count": 34,
   "metadata": {},
   "outputs": [
    {
     "data": {
      "text/plain": [
       "0.7726090283091048"
      ]
     },
     "execution_count": 34,
     "metadata": {},
     "output_type": "execute_result"
    }
   ],
   "source": [
    "len(df[df.id==df.label])/len(df)"
   ]
  },
  {
   "cell_type": "code",
   "execution_count": null,
   "metadata": {},
   "outputs": [],
   "source": []
  }
 ],
 "metadata": {
  "interpreter": {
   "hash": "ce613df70ec087c2b4dda2bc280e25d341f72f59d81afb32edf1d298cbbb8087"
  },
  "kernelspec": {
   "display_name": "Python 3.9.7 ('bert')",
   "language": "python",
   "name": "python3"
  },
  "language_info": {
   "codemirror_mode": {
    "name": "ipython",
    "version": 3
   },
   "file_extension": ".py",
   "mimetype": "text/x-python",
   "name": "python",
   "nbconvert_exporter": "python",
   "pygments_lexer": "ipython3",
   "version": "3.9.7"
  },
  "orig_nbformat": 4
 },
 "nbformat": 4,
 "nbformat_minor": 2
}
