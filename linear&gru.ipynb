{
 "cells": [
  {
   "cell_type": "code",
   "execution_count": 1,
   "metadata": {},
   "outputs": [],
   "source": [
    "import pandas as pd"
   ]
  },
  {
   "cell_type": "code",
   "execution_count": 22,
   "metadata": {},
   "outputs": [],
   "source": [
    "df_lin1 = pd.read_csv('bert_linear/test_result.csv')\n",
    "df_lin2 = pd.read_csv('bert_linear/test_result_db2.csv')\n",
    "df_gru1 = pd.read_csv('bert_gru/test_result.csv')\n",
    "df_gru2 = pd.read_csv('bert_gru/test_result_db2.csv')"
   ]
  },
  {
   "cell_type": "code",
   "execution_count": 23,
   "metadata": {},
   "outputs": [],
   "source": [
    "for df in [df_lin1, df_lin2]:\n",
    "    df.rename(columns={'label':'linear_lbl'}, inplace=True)\n",
    "for df in [df_gru1,df_gru2]:\n",
    "    df.rename(columns={'label':'gru_lbl'}, inplace=True)"
   ]
  },
  {
   "cell_type": "code",
   "execution_count": 25,
   "metadata": {},
   "outputs": [
    {
     "data": {
      "text/html": [
       "<div>\n",
       "<style scoped>\n",
       "    .dataframe tbody tr th:only-of-type {\n",
       "        vertical-align: middle;\n",
       "    }\n",
       "\n",
       "    .dataframe tbody tr th {\n",
       "        vertical-align: top;\n",
       "    }\n",
       "\n",
       "    .dataframe thead th {\n",
       "        text-align: right;\n",
       "    }\n",
       "</style>\n",
       "<table border=\"1\" class=\"dataframe\">\n",
       "  <thead>\n",
       "    <tr style=\"text-align: right;\">\n",
       "      <th></th>\n",
       "      <th>text</th>\n",
       "      <th>id</th>\n",
       "      <th>linear_lbl</th>\n",
       "      <th>gru_lbl</th>\n",
       "    </tr>\n",
       "  </thead>\n",
       "  <tbody>\n",
       "    <tr>\n",
       "      <th>0</th>\n",
       "      <td>['[CLS]', '没', '玩', '过', '啊', '[SEP]', '[PAD]'...</td>\n",
       "      <td>0</td>\n",
       "      <td>0</td>\n",
       "      <td>0</td>\n",
       "    </tr>\n",
       "    <tr>\n",
       "      <th>1</th>\n",
       "      <td>['[CLS]', '停', '车', '减', '速', '[SEP]', '[PAD]'...</td>\n",
       "      <td>0</td>\n",
       "      <td>0</td>\n",
       "      <td>0</td>\n",
       "    </tr>\n",
       "    <tr>\n",
       "      <th>2</th>\n",
       "      <td>['[CLS]', '看', '不', '出', '来', '？', '[SEP]', '[...</td>\n",
       "      <td>0</td>\n",
       "      <td>0</td>\n",
       "      <td>0</td>\n",
       "    </tr>\n",
       "    <tr>\n",
       "      <th>3</th>\n",
       "      <td>['[CLS]', '屁', '民', '也', '是', '民', '[SEP]', '[...</td>\n",
       "      <td>2</td>\n",
       "      <td>0</td>\n",
       "      <td>2</td>\n",
       "    </tr>\n",
       "    <tr>\n",
       "      <th>4</th>\n",
       "      <td>['[CLS]', '加', '油', '吧', '[SEP]', '[PAD]', '[P...</td>\n",
       "      <td>1</td>\n",
       "      <td>0</td>\n",
       "      <td>1</td>\n",
       "    </tr>\n",
       "    <tr>\n",
       "      <th>...</th>\n",
       "      <td>...</td>\n",
       "      <td>...</td>\n",
       "      <td>...</td>\n",
       "      <td>...</td>\n",
       "    </tr>\n",
       "    <tr>\n",
       "      <th>6530</th>\n",
       "      <td>['[CLS]', '专', '赢', '阿', '森', '纳', '[SEP]', '[...</td>\n",
       "      <td>0</td>\n",
       "      <td>0</td>\n",
       "      <td>0</td>\n",
       "    </tr>\n",
       "    <tr>\n",
       "      <th>6531</th>\n",
       "      <td>['[CLS]', '你', '先', '说', '吧', '[SEP]', '[PAD]'...</td>\n",
       "      <td>0</td>\n",
       "      <td>0</td>\n",
       "      <td>0</td>\n",
       "    </tr>\n",
       "    <tr>\n",
       "      <th>6532</th>\n",
       "      <td>['[CLS]', '老', '哥', '吻', '乳', '沟', '[SEP]', '[...</td>\n",
       "      <td>0</td>\n",
       "      <td>0</td>\n",
       "      <td>0</td>\n",
       "    </tr>\n",
       "    <tr>\n",
       "      <th>6533</th>\n",
       "      <td>['[CLS]', '汽', '车', '吧', '[SEP]', '[PAD]', '[P...</td>\n",
       "      <td>0</td>\n",
       "      <td>0</td>\n",
       "      <td>0</td>\n",
       "    </tr>\n",
       "    <tr>\n",
       "      <th>6534</th>\n",
       "      <td>['[CLS]', '叫', '什', '么', '游', '戏', '[SEP]', '[...</td>\n",
       "      <td>0</td>\n",
       "      <td>0</td>\n",
       "      <td>0</td>\n",
       "    </tr>\n",
       "  </tbody>\n",
       "</table>\n",
       "<p>6535 rows × 4 columns</p>\n",
       "</div>"
      ],
      "text/plain": [
       "                                                   text  id  linear_lbl  \\\n",
       "0     ['[CLS]', '没', '玩', '过', '啊', '[SEP]', '[PAD]'...   0           0   \n",
       "1     ['[CLS]', '停', '车', '减', '速', '[SEP]', '[PAD]'...   0           0   \n",
       "2     ['[CLS]', '看', '不', '出', '来', '？', '[SEP]', '[...   0           0   \n",
       "3     ['[CLS]', '屁', '民', '也', '是', '民', '[SEP]', '[...   2           0   \n",
       "4     ['[CLS]', '加', '油', '吧', '[SEP]', '[PAD]', '[P...   1           0   \n",
       "...                                                 ...  ..         ...   \n",
       "6530  ['[CLS]', '专', '赢', '阿', '森', '纳', '[SEP]', '[...   0           0   \n",
       "6531  ['[CLS]', '你', '先', '说', '吧', '[SEP]', '[PAD]'...   0           0   \n",
       "6532  ['[CLS]', '老', '哥', '吻', '乳', '沟', '[SEP]', '[...   0           0   \n",
       "6533  ['[CLS]', '汽', '车', '吧', '[SEP]', '[PAD]', '[P...   0           0   \n",
       "6534  ['[CLS]', '叫', '什', '么', '游', '戏', '[SEP]', '[...   0           0   \n",
       "\n",
       "      gru_lbl  \n",
       "0           0  \n",
       "1           0  \n",
       "2           0  \n",
       "3           2  \n",
       "4           1  \n",
       "...       ...  \n",
       "6530        0  \n",
       "6531        0  \n",
       "6532        0  \n",
       "6533        0  \n",
       "6534        0  \n",
       "\n",
       "[6535 rows x 4 columns]"
      ]
     },
     "execution_count": 25,
     "metadata": {},
     "output_type": "execute_result"
    }
   ],
   "source": [
    "df1 = pd.concat([df_lin1,df_gru1.gru_lbl], axis = 1)[['text','id','linear_lbl','gru_lbl']]\n",
    "df1"
   ]
  },
  {
   "cell_type": "code",
   "execution_count": 28,
   "metadata": {},
   "outputs": [
    {
     "data": {
      "text/html": [
       "<div>\n",
       "<style scoped>\n",
       "    .dataframe tbody tr th:only-of-type {\n",
       "        vertical-align: middle;\n",
       "    }\n",
       "\n",
       "    .dataframe tbody tr th {\n",
       "        vertical-align: top;\n",
       "    }\n",
       "\n",
       "    .dataframe thead th {\n",
       "        text-align: right;\n",
       "    }\n",
       "</style>\n",
       "<table border=\"1\" class=\"dataframe\">\n",
       "  <thead>\n",
       "    <tr style=\"text-align: right;\">\n",
       "      <th></th>\n",
       "      <th>text</th>\n",
       "      <th>id</th>\n",
       "      <th>linear_lbl</th>\n",
       "      <th>gru_lbl</th>\n",
       "    </tr>\n",
       "  </thead>\n",
       "  <tbody>\n",
       "    <tr>\n",
       "      <th>3</th>\n",
       "      <td>['[CLS]', '屁', '民', '也', '是', '民', '[SEP]', '[...</td>\n",
       "      <td>2</td>\n",
       "      <td>0</td>\n",
       "      <td>2</td>\n",
       "    </tr>\n",
       "    <tr>\n",
       "      <th>4</th>\n",
       "      <td>['[CLS]', '加', '油', '吧', '[SEP]', '[PAD]', '[P...</td>\n",
       "      <td>1</td>\n",
       "      <td>0</td>\n",
       "      <td>1</td>\n",
       "    </tr>\n",
       "    <tr>\n",
       "      <th>22</th>\n",
       "      <td>['[CLS]', '刘', '军', '不', '服', '[SEP]', '[PAD]'...</td>\n",
       "      <td>0</td>\n",
       "      <td>0</td>\n",
       "      <td>2</td>\n",
       "    </tr>\n",
       "    <tr>\n",
       "      <th>23</th>\n",
       "      <td>['[CLS]', '打', '屎', '棍', '[SEP]', '[PAD]', '[P...</td>\n",
       "      <td>2</td>\n",
       "      <td>2</td>\n",
       "      <td>0</td>\n",
       "    </tr>\n",
       "    <tr>\n",
       "      <th>32</th>\n",
       "      <td>['[CLS]', '舔', '屎', '[SEP]', '[PAD]', '[PAD]',...</td>\n",
       "      <td>2</td>\n",
       "      <td>0</td>\n",
       "      <td>2</td>\n",
       "    </tr>\n",
       "    <tr>\n",
       "      <th>...</th>\n",
       "      <td>...</td>\n",
       "      <td>...</td>\n",
       "      <td>...</td>\n",
       "      <td>...</td>\n",
       "    </tr>\n",
       "    <tr>\n",
       "      <th>6502</th>\n",
       "      <td>['[CLS]', '放', '弃', '吧', '[SEP]', '[PAD]', '[P...</td>\n",
       "      <td>2</td>\n",
       "      <td>0</td>\n",
       "      <td>2</td>\n",
       "    </tr>\n",
       "    <tr>\n",
       "      <th>6506</th>\n",
       "      <td>['[CLS]', '讲', '详', '细', '点', '[SEP]', '[PAD]'...</td>\n",
       "      <td>1</td>\n",
       "      <td>0</td>\n",
       "      <td>1</td>\n",
       "    </tr>\n",
       "    <tr>\n",
       "      <th>6516</th>\n",
       "      <td>['[CLS]', '666', '，', '[SEP]', '[PAD]', '[PAD]...</td>\n",
       "      <td>0</td>\n",
       "      <td>0</td>\n",
       "      <td>1</td>\n",
       "    </tr>\n",
       "    <tr>\n",
       "      <th>6526</th>\n",
       "      <td>['[CLS]', '就', '是', '太', '贵', '[SEP]', '[PAD]'...</td>\n",
       "      <td>2</td>\n",
       "      <td>0</td>\n",
       "      <td>2</td>\n",
       "    </tr>\n",
       "    <tr>\n",
       "      <th>6528</th>\n",
       "      <td>['[CLS]', '又', '来', '水', '了', '[SEP]', '[PAD]'...</td>\n",
       "      <td>0</td>\n",
       "      <td>0</td>\n",
       "      <td>2</td>\n",
       "    </tr>\n",
       "  </tbody>\n",
       "</table>\n",
       "<p>687 rows × 4 columns</p>\n",
       "</div>"
      ],
      "text/plain": [
       "                                                   text  id  linear_lbl  \\\n",
       "3     ['[CLS]', '屁', '民', '也', '是', '民', '[SEP]', '[...   2           0   \n",
       "4     ['[CLS]', '加', '油', '吧', '[SEP]', '[PAD]', '[P...   1           0   \n",
       "22    ['[CLS]', '刘', '军', '不', '服', '[SEP]', '[PAD]'...   0           0   \n",
       "23    ['[CLS]', '打', '屎', '棍', '[SEP]', '[PAD]', '[P...   2           2   \n",
       "32    ['[CLS]', '舔', '屎', '[SEP]', '[PAD]', '[PAD]',...   2           0   \n",
       "...                                                 ...  ..         ...   \n",
       "6502  ['[CLS]', '放', '弃', '吧', '[SEP]', '[PAD]', '[P...   2           0   \n",
       "6506  ['[CLS]', '讲', '详', '细', '点', '[SEP]', '[PAD]'...   1           0   \n",
       "6516  ['[CLS]', '666', '，', '[SEP]', '[PAD]', '[PAD]...   0           0   \n",
       "6526  ['[CLS]', '就', '是', '太', '贵', '[SEP]', '[PAD]'...   2           0   \n",
       "6528  ['[CLS]', '又', '来', '水', '了', '[SEP]', '[PAD]'...   0           0   \n",
       "\n",
       "      gru_lbl  \n",
       "3           2  \n",
       "4           1  \n",
       "22          2  \n",
       "23          0  \n",
       "32          2  \n",
       "...       ...  \n",
       "6502        2  \n",
       "6506        1  \n",
       "6516        1  \n",
       "6526        2  \n",
       "6528        2  \n",
       "\n",
       "[687 rows x 4 columns]"
      ]
     },
     "execution_count": 28,
     "metadata": {},
     "output_type": "execute_result"
    }
   ],
   "source": [
    "df1[df1.linear_lbl != df1.gru_lbl]"
   ]
  },
  {
   "cell_type": "code",
   "execution_count": 42,
   "metadata": {},
   "outputs": [
    {
     "name": "stderr",
     "output_type": "stream",
     "text": [
      "C:\\Users\\alienware\\AppData\\Local\\Temp\\ipykernel_16664\\1300590116.py:1: UserWarning: Boolean Series key will be reindexed to match DataFrame index.\n",
      "  df1_0 = df1[df1.id==0][df1.linear_lbl != df1.gru_lbl]\n",
      "C:\\Users\\alienware\\AppData\\Local\\Temp\\ipykernel_16664\\1300590116.py:2: UserWarning: Boolean Series key will be reindexed to match DataFrame index.\n",
      "  df1_1 = df1[df1.id==1][df1.linear_lbl != df1.gru_lbl]\n",
      "C:\\Users\\alienware\\AppData\\Local\\Temp\\ipykernel_16664\\1300590116.py:3: UserWarning: Boolean Series key will be reindexed to match DataFrame index.\n",
      "  df1_2 = df1[df1.id==2][df1.linear_lbl != df1.gru_lbl]\n"
     ]
    }
   ],
   "source": [
    "df1_0 = df1[df1.id==0][df1.linear_lbl != df1.gru_lbl]\n",
    "df1_1 = df1[df1.id==1][df1.linear_lbl != df1.gru_lbl]\n",
    "df1_2 = df1[df1.id==2][df1.linear_lbl != df1.gru_lbl]"
   ]
  },
  {
   "cell_type": "code",
   "execution_count": 74,
   "metadata": {},
   "outputs": [
    {
     "data": {
      "text/plain": [
       "<AxesSubplot:>"
      ]
     },
     "execution_count": 74,
     "metadata": {},
     "output_type": "execute_result"
    },
    {
     "data": {
      "image/png": "[encoded data removed]",
      "text/plain": [
       "<Figure size 432x288 with 1 Axes>"
      ]
     },
     "metadata": {
      "needs_background": "light"
     },
     "output_type": "display_data"
    }
   ],
   "source": [
    "df_temp0 = pd.Series([len(df1_0),0,0], name='real_lbl')\n",
    "df_diff_0 = pd.DataFrame([df_temp0, df1_0.linear_lbl.value_counts(), df1_0.gru_lbl.value_counts()])\n",
    "df_diff_0.plot.bar(rot=0)"
   ]
  },
  {
   "cell_type": "code",
   "execution_count": 75,
   "metadata": {},
   "outputs": [
    {
     "data": {
      "text/plain": [
       "<AxesSubplot:>"
      ]
     },
     "execution_count": 75,
     "metadata": {},
     "output_type": "execute_result"
    },
    {
     "data": {
      "image/png": "[encoded data removed]",
      "text/plain": [
       "<Figure size 432x288 with 1 Axes>"
      ]
     },
     "metadata": {
      "needs_background": "light"
     },
     "output_type": "display_data"
    }
   ],
   "source": [
    "df_temp1 = pd.Series([0,len(df1_1),0], name='real_lbl')\n",
    "df_diff_1 = pd.DataFrame([df_temp1, df1_1.linear_lbl.value_counts(), df1_1.gru_lbl.value_counts()])\n",
    "df_diff_1.plot.bar(rot=0)"
   ]
  },
  {
   "cell_type": "code",
   "execution_count": 76,
   "metadata": {},
   "outputs": [
    {
     "data": {
      "text/plain": [
       "<AxesSubplot:>"
      ]
     },
     "execution_count": 76,
     "metadata": {},
     "output_type": "execute_result"
    },
    {
     "data": {
      "image/png": "[encoded data removed]",
      "text/plain": [
       "<Figure size 432x288 with 1 Axes>"
      ]
     },
     "metadata": {
      "needs_background": "light"
     },
     "output_type": "display_data"
    }
   ],
   "source": [
    "df_temp2 = pd.Series([0,0,len(df1_2)], name='real_lbl')\n",
    "df_diff_2 = pd.DataFrame([df_temp2, df1_2.linear_lbl.value_counts(), df1_2.gru_lbl.value_counts()])\n",
    "df_diff_2.plot.bar(rot=0)"
   ]
  },
  {
   "cell_type": "code",
   "execution_count": 72,
   "metadata": {},
   "outputs": [
    {
     "data": {
      "text/plain": [
       "<AxesSubplot:>"
      ]
     },
     "execution_count": 72,
     "metadata": {},
     "output_type": "execute_result"
    },
    {
     "data": {
      "image/png": "[encoded data removed]",
      "text/plain": [
       "<Figure size 432x288 with 1 Axes>"
      ]
     },
     "metadata": {
      "needs_background": "light"
     },
     "output_type": "display_data"
    }
   ],
   "source": [
    "pd.DataFrame([df1[df1.id!=df1.linear_lbl].id.value_counts(), \n",
    "             df1[df1.id!=df1.linear_lbl].linear_lbl.value_counts()]).sort_index(axis = 1,ascending=True).plot.bar(rot=0)"
   ]
  },
  {
   "cell_type": "code",
   "execution_count": 73,
   "metadata": {},
   "outputs": [
    {
     "data": {
      "text/plain": [
       "<AxesSubplot:>"
      ]
     },
     "execution_count": 73,
     "metadata": {},
     "output_type": "execute_result"
    },
    {
     "data": {
      "image/png": "[encoded data removed]",
      "text/plain": [
       "<Figure size 432x288 with 1 Axes>"
      ]
     },
     "metadata": {
      "needs_background": "light"
     },
     "output_type": "display_data"
    }
   ],
   "source": [
    "pd.DataFrame([df1[df1.id!=df1.gru_lbl].id.value_counts(), \n",
    "             df1[df1.id!=df1.gru_lbl].gru_lbl.value_counts()]).sort_index(axis = 1,ascending=True).plot.bar(rot=0)"
   ]
  },
  {
   "cell_type": "code",
   "execution_count": 77,
   "metadata": {},
   "outputs": [
    {
     "data": {
      "text/html": [
       "<div>\n",
       "<style scoped>\n",
       "    .dataframe tbody tr th:only-of-type {\n",
       "        vertical-align: middle;\n",
       "    }\n",
       "\n",
       "    .dataframe tbody tr th {\n",
       "        vertical-align: top;\n",
       "    }\n",
       "\n",
       "    .dataframe thead th {\n",
       "        text-align: right;\n",
       "    }\n",
       "</style>\n",
       "<table border=\"1\" class=\"dataframe\">\n",
       "  <thead>\n",
       "    <tr style=\"text-align: right;\">\n",
       "      <th></th>\n",
       "      <th>text</th>\n",
       "      <th>id</th>\n",
       "      <th>linear_lbl</th>\n",
       "      <th>gru_lbl</th>\n",
       "    </tr>\n",
       "  </thead>\n",
       "  <tbody>\n",
       "    <tr>\n",
       "      <th>0</th>\n",
       "      <td>['[CLS]', '很', '惊', '叹', '不', '用', '谢', '谢', '...</td>\n",
       "      <td>1</td>\n",
       "      <td>1</td>\n",
       "      <td>1</td>\n",
       "    </tr>\n",
       "    <tr>\n",
       "      <th>1</th>\n",
       "      <td>['[CLS]', '你', '好', '我', '购', '票', '失', '败', '...</td>\n",
       "      <td>2</td>\n",
       "      <td>2</td>\n",
       "      <td>2</td>\n",
       "    </tr>\n",
       "    <tr>\n",
       "      <th>2</th>\n",
       "      <td>['[CLS]', '好', '多', '次', '这', '样', '了', '[SEP]...</td>\n",
       "      <td>0</td>\n",
       "      <td>0</td>\n",
       "      <td>2</td>\n",
       "    </tr>\n",
       "    <tr>\n",
       "      <th>3</th>\n",
       "      <td>['[CLS]', '我', '申', '请', '了', '大', '同', '飞', '...</td>\n",
       "      <td>2</td>\n",
       "      <td>0</td>\n",
       "      <td>0</td>\n",
       "    </tr>\n",
       "    <tr>\n",
       "      <th>4</th>\n",
       "      <td>['[CLS]', '这', '个', '有', '效', '的', '吧', '[SEP]...</td>\n",
       "      <td>1</td>\n",
       "      <td>1</td>\n",
       "      <td>1</td>\n",
       "    </tr>\n",
       "    <tr>\n",
       "      <th>...</th>\n",
       "      <td>...</td>\n",
       "      <td>...</td>\n",
       "      <td>...</td>\n",
       "      <td>...</td>\n",
       "    </tr>\n",
       "    <tr>\n",
       "      <th>15995</th>\n",
       "      <td>['[CLS]', '除', '了', '用', '身', '份', '证', '还', '...</td>\n",
       "      <td>0</td>\n",
       "      <td>0</td>\n",
       "      <td>0</td>\n",
       "    </tr>\n",
       "    <tr>\n",
       "      <th>15996</th>\n",
       "      <td>['[CLS]', '我', '到', '了', '亲', '爱', '的', '第', '...</td>\n",
       "      <td>1</td>\n",
       "      <td>1</td>\n",
       "      <td>1</td>\n",
       "    </tr>\n",
       "    <tr>\n",
       "      <th>15997</th>\n",
       "      <td>['[CLS]', '山', '家', '庭', '宽', '带', '20', '##m'...</td>\n",
       "      <td>0</td>\n",
       "      <td>0</td>\n",
       "      <td>0</td>\n",
       "    </tr>\n",
       "    <tr>\n",
       "      <th>15998</th>\n",
       "      <td>['[CLS]', '送', '票', '最', '起', '码', '应', '该', '...</td>\n",
       "      <td>0</td>\n",
       "      <td>0</td>\n",
       "      <td>0</td>\n",
       "    </tr>\n",
       "    <tr>\n",
       "      <th>15999</th>\n",
       "      <td>['[CLS]', '那', '就', '没', '问', '题', '了', '谢', '...</td>\n",
       "      <td>1</td>\n",
       "      <td>1</td>\n",
       "      <td>1</td>\n",
       "    </tr>\n",
       "  </tbody>\n",
       "</table>\n",
       "<p>16000 rows × 4 columns</p>\n",
       "</div>"
      ],
      "text/plain": [
       "                                                    text  id  linear_lbl  \\\n",
       "0      ['[CLS]', '很', '惊', '叹', '不', '用', '谢', '谢', '...   1           1   \n",
       "1      ['[CLS]', '你', '好', '我', '购', '票', '失', '败', '...   2           2   \n",
       "2      ['[CLS]', '好', '多', '次', '这', '样', '了', '[SEP]...   0           0   \n",
       "3      ['[CLS]', '我', '申', '请', '了', '大', '同', '飞', '...   2           0   \n",
       "4      ['[CLS]', '这', '个', '有', '效', '的', '吧', '[SEP]...   1           1   \n",
       "...                                                  ...  ..         ...   \n",
       "15995  ['[CLS]', '除', '了', '用', '身', '份', '证', '还', '...   0           0   \n",
       "15996  ['[CLS]', '我', '到', '了', '亲', '爱', '的', '第', '...   1           1   \n",
       "15997  ['[CLS]', '山', '家', '庭', '宽', '带', '20', '##m'...   0           0   \n",
       "15998  ['[CLS]', '送', '票', '最', '起', '码', '应', '该', '...   0           0   \n",
       "15999  ['[CLS]', '那', '就', '没', '问', '题', '了', '谢', '...   1           1   \n",
       "\n",
       "       gru_lbl  \n",
       "0            1  \n",
       "1            2  \n",
       "2            2  \n",
       "3            0  \n",
       "4            1  \n",
       "...        ...  \n",
       "15995        0  \n",
       "15996        1  \n",
       "15997        0  \n",
       "15998        0  \n",
       "15999        1  \n",
       "\n",
       "[16000 rows x 4 columns]"
      ]
     },
     "execution_count": 77,
     "metadata": {},
     "output_type": "execute_result"
    }
   ],
   "source": [
    "df2 = pd.concat([df_lin2,df_gru2.gru_lbl], axis = 1)[['text','id','linear_lbl','gru_lbl']]\n",
    "df2"
   ]
  },
  {
   "cell_type": "code",
   "execution_count": 78,
   "metadata": {},
   "outputs": [
    {
     "name": "stderr",
     "output_type": "stream",
     "text": [
      "C:\\Users\\alienware\\AppData\\Local\\Temp\\ipykernel_16664\\3015153221.py:1: UserWarning: Boolean Series key will be reindexed to match DataFrame index.\n",
      "  df2_0 = df2[df2.id==0][df2.linear_lbl != df2.gru_lbl]\n",
      "C:\\Users\\alienware\\AppData\\Local\\Temp\\ipykernel_16664\\3015153221.py:2: UserWarning: Boolean Series key will be reindexed to match DataFrame index.\n",
      "  df2_1 = df2[df2.id==1][df2.linear_lbl != df2.gru_lbl]\n",
      "C:\\Users\\alienware\\AppData\\Local\\Temp\\ipykernel_16664\\3015153221.py:3: UserWarning: Boolean Series key will be reindexed to match DataFrame index.\n",
      "  df2_2 = df2[df2.id==2][df2.linear_lbl != df2.gru_lbl]\n"
     ]
    }
   ],
   "source": [
    "df2_0 = df2[df2.id==0][df2.linear_lbl != df2.gru_lbl]\n",
    "df2_1 = df2[df2.id==1][df2.linear_lbl != df2.gru_lbl]\n",
    "df2_2 = df2[df2.id==2][df2.linear_lbl != df2.gru_lbl]"
   ]
  },
  {
   "cell_type": "code",
   "execution_count": 79,
   "metadata": {},
   "outputs": [
    {
     "data": {
      "text/plain": [
       "<AxesSubplot:>"
      ]
     },
     "execution_count": 79,
     "metadata": {},
     "output_type": "execute_result"
    },
    {
     "data": {
      "image/png": "[encoded data removed]",
      "text/plain": [
       "<Figure size 432x288 with 1 Axes>"
      ]
     },
     "metadata": {
      "needs_background": "light"
     },
     "output_type": "display_data"
    }
   ],
   "source": [
    "df_temp20 = pd.Series([len(df2_0),0,0], name='real_lbl')\n",
    "df_diff_20 = pd.DataFrame([df_temp20, df2_0.linear_lbl.value_counts(), df2_0.gru_lbl.value_counts()])\n",
    "df_diff_20.plot.bar(rot=0)"
   ]
  },
  {
   "cell_type": "code",
   "execution_count": 81,
   "metadata": {},
   "outputs": [
    {
     "data": {
      "text/plain": [
       "<AxesSubplot:>"
      ]
     },
     "execution_count": 81,
     "metadata": {},
     "output_type": "execute_result"
    },
    {
     "data": {
      "image/png": "[encoded data removed]",
      "text/plain": [
       "<Figure size 432x288 with 1 Axes>"
      ]
     },
     "metadata": {
      "needs_background": "light"
     },
     "output_type": "display_data"
    }
   ],
   "source": [
    "df_temp21 = pd.Series([0,len(df2_1),0], name='real_lbl')\n",
    "df_diff_21 = pd.DataFrame([df_temp21, df2_1.linear_lbl.value_counts(), df2_1.gru_lbl.value_counts()])\n",
    "df_diff_21.plot.bar(rot=0)"
   ]
  },
  {
   "cell_type": "code",
   "execution_count": 82,
   "metadata": {},
   "outputs": [
    {
     "data": {
      "text/plain": [
       "<AxesSubplot:>"
      ]
     },
     "execution_count": 82,
     "metadata": {},
     "output_type": "execute_result"
    },
    {
     "data": {
      "image/png": "[encoded data removed]",
      "text/plain": [
       "<Figure size 432x288 with 1 Axes>"
      ]
     },
     "metadata": {
      "needs_background": "light"
     },
     "output_type": "display_data"
    }
   ],
   "source": [
    "df_temp22 = pd.Series([0,0,len(df2_2)], name='real_lbl')\n",
    "df_diff_22 = pd.DataFrame([df_temp22, df2_2.linear_lbl.value_counts(), df2_2.gru_lbl.value_counts()])\n",
    "df_diff_22.plot.bar(rot=0)"
   ]
  },
  {
   "cell_type": "code",
   "execution_count": 83,
   "metadata": {},
   "outputs": [
    {
     "data": {
      "text/plain": [
       "<AxesSubplot:>"
      ]
     },
     "execution_count": 83,
     "metadata": {},
     "output_type": "execute_result"
    },
    {
     "data": {
      "image/png": "[encoded data removed]",
      "text/plain": [
       "<Figure size 432x288 with 1 Axes>"
      ]
     },
     "metadata": {
      "needs_background": "light"
     },
     "output_type": "display_data"
    }
   ],
   "source": [
    "pd.DataFrame([df2[df2.id!=df2.linear_lbl].id.value_counts(), \n",
    "             df2[df2.id!=df2.linear_lbl].linear_lbl.value_counts()]).sort_index(axis = 1,ascending=True).plot.bar(rot=0)"
   ]
  },
  {
   "cell_type": "code",
   "execution_count": 84,
   "metadata": {},
   "outputs": [
    {
     "data": {
      "text/plain": [
       "<AxesSubplot:>"
      ]
     },
     "execution_count": 84,
     "metadata": {},
     "output_type": "execute_result"
    },
    {
     "data": {
      "image/png": "[encoded data removed]",
      "text/plain": [
       "<Figure size 432x288 with 1 Axes>"
      ]
     },
     "metadata": {
      "needs_background": "light"
     },
     "output_type": "display_data"
    }
   ],
   "source": [
    "pd.DataFrame([df2[df2.id!=df2.gru_lbl].id.value_counts(), \n",
    "             df2[df2.id!=df2.gru_lbl].gru_lbl.value_counts()]).sort_index(axis = 1,ascending=True).plot.bar(rot=0)"
   ]
  },
  {
   "cell_type": "code",
   "execution_count": 87,
   "metadata": {},
   "outputs": [
    {
     "name": "stdout",
     "output_type": "stream",
     "text": [
      "16000 2079 1642\n"
     ]
    }
   ],
   "source": [
    "print(len(df2), len(df2[df2.id!=df2.linear_lbl]), len(df2[df2.id!=df2.gru_lbl]))"
   ]
  },
  {
   "cell_type": "code",
   "execution_count": null,
   "metadata": {},
   "outputs": [],
   "source": []
  }
 ],
 "metadata": {
  "interpreter": {
   "hash": "ce613df70ec087c2b4dda2bc280e25d341f72f59d81afb32edf1d298cbbb8087"
  },
  "kernelspec": {
   "display_name": "Python 3.9.7 ('bert')",
   "language": "python",
   "name": "python3"
  },
  "language_info": {
   "codemirror_mode": {
    "name": "ipython",
    "version": 3
   },
   "file_extension": ".py",
   "mimetype": "text/x-python",
   "name": "python",
   "nbconvert_exporter": "python",
   "pygments_lexer": "ipython3",
   "version": "3.9.7"
  },
  "orig_nbformat": 4
 },
 "nbformat": 4,
 "nbformat_minor": 2
}
