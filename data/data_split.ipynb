{
 "cells": [
  {
   "cell_type": "code",
   "execution_count": 1,
   "metadata": {},
   "outputs": [],
   "source": [
    "import pandas as pd"
   ]
  },
  {
   "cell_type": "code",
   "execution_count": 6,
   "metadata": {},
   "outputs": [],
   "source": [
    "df = pd.read_csv('data/db2/db2.csv')"
   ]
  },
  {
   "cell_type": "code",
   "execution_count": 7,
   "metadata": {},
   "outputs": [
    {
     "name": "stdout",
     "output_type": "stream",
     "text": [
      "   emotion             content\n",
      "0        0  15008686045的话费还剩多少\n",
      "1        0       明天晚上下班过我这里来一下\n",
      "2        2           担保房费退回来了吗\n",
      "3        0               我们升级吗\n",
      "4        2         流量优惠券不可以送人吗\n",
      "5        1             哦ω我懂了谢谢\n",
      "6        1          机会大吧不会是虚的吧\n",
      "7        2      mu2930明天真的飞不了了\n",
      "8        0             查一下话费账单\n",
      "9        0         我要开通3G随意玩流量\n"
     ]
    }
   ],
   "source": [
    "df = df.sample(frac=1).reset_index(drop=True)\n",
    "print(df.iloc[:10])"
   ]
  },
  {
   "cell_type": "code",
   "execution_count": 9,
   "metadata": {},
   "outputs": [],
   "source": [
    "import math\n",
    "length = df.shape[0]\n",
    "train_size = math.floor(length*0.7)\n",
    "dev_size = math.floor(length*0.8)"
   ]
  },
  {
   "cell_type": "code",
   "execution_count": 10,
   "metadata": {},
   "outputs": [],
   "source": [
    "# split\n",
    "train_df = df.iloc[:train_size]\n",
    "dev_df = df.iloc[train_size:dev_size]\n",
    "test_df = df.iloc[dev_size:]"
   ]
  },
  {
   "cell_type": "code",
   "execution_count": 11,
   "metadata": {},
   "outputs": [
    {
     "data": {
      "text/plain": [
       "56000"
      ]
     },
     "execution_count": 11,
     "metadata": {},
     "output_type": "execute_result"
    }
   ],
   "source": [
    "len(train_df)"
   ]
  },
  {
   "cell_type": "code",
   "execution_count": 12,
   "metadata": {},
   "outputs": [
    {
     "name": "stdout",
     "output_type": "stream",
     "text": [
      "28034 13965 14001\n"
     ]
    }
   ],
   "source": [
    "print(len(train_df[train_df.emotion==0]), len(train_df[train_df.emotion==1]), len(train_df[train_df.emotion==2]))"
   ]
  },
  {
   "cell_type": "code",
   "execution_count": 13,
   "metadata": {},
   "outputs": [],
   "source": [
    "train_df.to_csv('data/db2/train.csv', sep=',', index=False)\n",
    "dev_df.to_csv('data/db2/dev.csv', sep=',', index=False)\n",
    "test_df.to_csv('data/db2/test.csv', sep=',', index=False)"
   ]
  },
  {
   "cell_type": "code",
   "execution_count": null,
   "metadata": {},
   "outputs": [],
   "source": []
  }
 ],
 "metadata": {
  "interpreter": {
   "hash": "ce613df70ec087c2b4dda2bc280e25d341f72f59d81afb32edf1d298cbbb8087"
  },
  "kernelspec": {
   "display_name": "Python 3.9.7 ('bert')",
   "language": "python",
   "name": "python3"
  },
  "language_info": {
   "codemirror_mode": {
    "name": "ipython",
    "version": 3
   },
   "file_extension": ".py",
   "mimetype": "text/x-python",
   "name": "python",
   "nbconvert_exporter": "python",
   "pygments_lexer": "ipython3",
   "version": "3.9.7"
  },
  "orig_nbformat": 4
 },
 "nbformat": 4,
 "nbformat_minor": 2
}
